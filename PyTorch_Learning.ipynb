{
 "cells": [
  {
   "cell_type": "code",
   "execution_count": 1,
   "metadata": {
    "colab": {
     "base_uri": "https://localhost:8080/",
     "height": 36
    },
    "id": "UoBDkp92F8_N",
    "outputId": "8033848e-1ed4-45b7-f644-fcf6d32d7322"
   },
   "outputs": [
    {
     "data": {
      "text/plain": [
       "'2.2.0+cpu'"
      ]
     },
     "execution_count": 1,
     "metadata": {},
     "output_type": "execute_result"
    }
   ],
   "source": [
    "import torch\n",
    "torch.__version__"
   ]
  },
  {
   "cell_type": "code",
   "execution_count": 2,
   "metadata": {
    "colab": {
     "base_uri": "https://localhost:8080/"
    },
    "id": "qaNLkSB2Hkke",
    "outputId": "0e7aa689-f696-4933-bc7e-49ec8b731998"
   },
   "outputs": [
    {
     "data": {
      "text/plain": [
       "tensor(7)"
      ]
     },
     "execution_count": 2,
     "metadata": {},
     "output_type": "execute_result"
    }
   ],
   "source": [
    "scaler = torch.tensor(7)\n",
    "scaler"
   ]
  },
  {
   "cell_type": "code",
   "execution_count": 3,
   "metadata": {
    "colab": {
     "base_uri": "https://localhost:8080/"
    },
    "id": "Ut6g3mjSI2-7",
    "outputId": "06c9f310-a9cf-4808-8b3a-2177300043d8"
   },
   "outputs": [
    {
     "data": {
      "text/plain": [
       "0"
      ]
     },
     "execution_count": 3,
     "metadata": {},
     "output_type": "execute_result"
    }
   ],
   "source": [
    "scaler.ndim"
   ]
  },
  {
   "cell_type": "code",
   "execution_count": 4,
   "metadata": {
    "colab": {
     "base_uri": "https://localhost:8080/"
    },
    "id": "_oFKvYofI5kE",
    "outputId": "f71271db-8b4f-4c8f-97cf-8d3d01806c13"
   },
   "outputs": [
    {
     "data": {
      "text/plain": [
       "7"
      ]
     },
     "execution_count": 4,
     "metadata": {},
     "output_type": "execute_result"
    }
   ],
   "source": [
    "scaler.item()"
   ]
  },
  {
   "cell_type": "code",
   "execution_count": 5,
   "metadata": {
    "id": "7_mtkc9UJJEB"
   },
   "outputs": [],
   "source": [
    "vector = torch.tensor([1,3,5])"
   ]
  },
  {
   "cell_type": "code",
   "execution_count": 6,
   "metadata": {
    "colab": {
     "base_uri": "https://localhost:8080/"
    },
    "id": "_YF5x2TtKkit",
    "outputId": "1f5daf85-fb81-4532-d4c6-20b1fd3a8c93"
   },
   "outputs": [
    {
     "data": {
      "text/plain": [
       "tensor([1, 3, 5])"
      ]
     },
     "execution_count": 6,
     "metadata": {},
     "output_type": "execute_result"
    }
   ],
   "source": [
    "vector"
   ]
  },
  {
   "cell_type": "code",
   "execution_count": 7,
   "metadata": {
    "colab": {
     "base_uri": "https://localhost:8080/"
    },
    "id": "mAy5Mo4oKlLd",
    "outputId": "dcbb46ae-d00c-431c-808c-81eb2588a585"
   },
   "outputs": [
    {
     "data": {
      "text/plain": [
       "1"
      ]
     },
     "execution_count": 7,
     "metadata": {},
     "output_type": "execute_result"
    }
   ],
   "source": [
    "vector.ndim"
   ]
  },
  {
   "cell_type": "code",
   "execution_count": 8,
   "metadata": {
    "colab": {
     "base_uri": "https://localhost:8080/"
    },
    "id": "9TnuKCC_KqM8",
    "outputId": "62466cfd-4f33-4130-a922-4ba15e5af007"
   },
   "outputs": [
    {
     "data": {
      "text/plain": [
       "torch.Size([3])"
      ]
     },
     "execution_count": 8,
     "metadata": {},
     "output_type": "execute_result"
    }
   ],
   "source": [
    "vector.shape"
   ]
  },
  {
   "cell_type": "code",
   "execution_count": 9,
   "metadata": {
    "id": "G4ykbiRIK8Sx"
   },
   "outputs": [],
   "source": [
    "matrix = torch.tensor([[1,2],\n",
    "                      [3,5]])"
   ]
  },
  {
   "cell_type": "code",
   "execution_count": 10,
   "metadata": {
    "colab": {
     "base_uri": "https://localhost:8080/"
    },
    "id": "Iw-iY-B-LJ9C",
    "outputId": "3581cb3c-a41e-4acd-c7be-6f87b82c7143"
   },
   "outputs": [
    {
     "data": {
      "text/plain": [
       "tensor([[1, 2],\n",
       "        [3, 5]])"
      ]
     },
     "execution_count": 10,
     "metadata": {},
     "output_type": "execute_result"
    }
   ],
   "source": [
    "matrix"
   ]
  },
  {
   "cell_type": "code",
   "execution_count": 11,
   "metadata": {
    "colab": {
     "base_uri": "https://localhost:8080/"
    },
    "id": "90oD57tNLKvP",
    "outputId": "548cb8dd-1626-4f36-f4e1-735fa107b502"
   },
   "outputs": [
    {
     "data": {
      "text/plain": [
       "2"
      ]
     },
     "execution_count": 11,
     "metadata": {},
     "output_type": "execute_result"
    }
   ],
   "source": [
    "matrix.ndim"
   ]
  },
  {
   "cell_type": "code",
   "execution_count": 12,
   "metadata": {
    "colab": {
     "base_uri": "https://localhost:8080/"
    },
    "id": "LHRUVl2ALMxs",
    "outputId": "e96b40b6-0af6-44a2-8bcd-fbafd112c728"
   },
   "outputs": [
    {
     "data": {
      "text/plain": [
       "torch.Size([2, 2])"
      ]
     },
     "execution_count": 12,
     "metadata": {},
     "output_type": "execute_result"
    }
   ],
   "source": [
    "matrix.shape"
   ]
  },
  {
   "cell_type": "code",
   "execution_count": 13,
   "metadata": {
    "id": "2_9j5n5fLOo2"
   },
   "outputs": [],
   "source": [
    "\n",
    "tensor = torch.tensor([[[[1,2,3],\n",
    "                        [4,5,6],\n",
    "                        [3,6,7]]]])"
   ]
  },
  {
   "cell_type": "code",
   "execution_count": 14,
   "metadata": {
    "colab": {
     "base_uri": "https://localhost:8080/"
    },
    "id": "kztqxJhPLnNv",
    "outputId": "34002ecc-5774-42e3-cd16-f8457ba82c3c"
   },
   "outputs": [
    {
     "data": {
      "text/plain": [
       "4"
      ]
     },
     "execution_count": 14,
     "metadata": {},
     "output_type": "execute_result"
    }
   ],
   "source": [
    "tensor.ndim"
   ]
  },
  {
   "cell_type": "code",
   "execution_count": 15,
   "metadata": {
    "colab": {
     "base_uri": "https://localhost:8080/"
    },
    "id": "cYGUtRNfLpvv",
    "outputId": "d75ac168-740e-470f-fe99-95c7b3ce4167"
   },
   "outputs": [
    {
     "data": {
      "text/plain": [
       "torch.Size([1, 1, 3, 3])"
      ]
     },
     "execution_count": 15,
     "metadata": {},
     "output_type": "execute_result"
    }
   ],
   "source": [
    "tensor.shape"
   ]
  },
  {
   "cell_type": "code",
   "execution_count": 16,
   "metadata": {
    "id": "LhCqj-GbLrK9"
   },
   "outputs": [],
   "source": [
    "random_tensor = torch.rand(size=(2,4))"
   ]
  },
  {
   "cell_type": "code",
   "execution_count": 17,
   "metadata": {
    "colab": {
     "base_uri": "https://localhost:8080/"
    },
    "id": "QhFmMGtQN00-",
    "outputId": "a4d1c248-047d-407f-91db-906875a81bb6"
   },
   "outputs": [
    {
     "data": {
      "text/plain": [
       "tensor([[0.7953, 0.5969, 0.5086, 0.6811],\n",
       "        [0.4629, 0.0205, 0.8214, 0.5078]])"
      ]
     },
     "execution_count": 17,
     "metadata": {},
     "output_type": "execute_result"
    }
   ],
   "source": [
    "random_tensor"
   ]
  },
  {
   "cell_type": "code",
   "execution_count": 18,
   "metadata": {
    "colab": {
     "base_uri": "https://localhost:8080/"
    },
    "id": "05KGr92mN9rF",
    "outputId": "ca2aaa7b-3e6c-4e1f-b854-d3e9bd4404af"
   },
   "outputs": [
    {
     "data": {
      "text/plain": [
       "2"
      ]
     },
     "execution_count": 18,
     "metadata": {},
     "output_type": "execute_result"
    }
   ],
   "source": [
    "random_tensor.ndim"
   ]
  },
  {
   "cell_type": "code",
   "execution_count": 19,
   "metadata": {
    "colab": {
     "base_uri": "https://localhost:8080/"
    },
    "id": "RTw0sTKvOAVz",
    "outputId": "eebe9bfc-f05e-48d3-e087-d2d80fcca314"
   },
   "outputs": [
    {
     "data": {
      "text/plain": [
       "torch.Size([2, 4])"
      ]
     },
     "execution_count": 19,
     "metadata": {},
     "output_type": "execute_result"
    }
   ],
   "source": [
    "random_tensor.shape"
   ]
  },
  {
   "cell_type": "code",
   "execution_count": 20,
   "metadata": {
    "colab": {
     "base_uri": "https://localhost:8080/"
    },
    "id": "Aw7orBu2ODyS",
    "outputId": "df8c4a46-4648-4951-826b-6376e742604e"
   },
   "outputs": [
    {
     "data": {
      "text/plain": [
       "torch.float32"
      ]
     },
     "execution_count": 20,
     "metadata": {},
     "output_type": "execute_result"
    }
   ],
   "source": [
    "random_tensor.dtype"
   ]
  },
  {
   "cell_type": "code",
   "execution_count": 21,
   "metadata": {
    "id": "GgyE8xHPOOFc"
   },
   "outputs": [],
   "source": [
    "zero_tensor= torch.zeros(size=(2,3))"
   ]
  },
  {
   "cell_type": "code",
   "execution_count": 22,
   "metadata": {
    "id": "6Y_y-LZYOUFN"
   },
   "outputs": [],
   "source": [
    "ones_tensor = torch.ones(size=(3,4))"
   ]
  },
  {
   "cell_type": "code",
   "execution_count": 23,
   "metadata": {
    "colab": {
     "base_uri": "https://localhost:8080/"
    },
    "id": "sZtlnubrOY4i",
    "outputId": "d16dd0b6-d7c7-4ea1-f58b-614e8d66ee3e"
   },
   "outputs": [
    {
     "data": {
      "text/plain": [
       "tensor([[1., 1., 1., 1.],\n",
       "        [1., 1., 1., 1.],\n",
       "        [1., 1., 1., 1.]])"
      ]
     },
     "execution_count": 23,
     "metadata": {},
     "output_type": "execute_result"
    }
   ],
   "source": [
    "ones_tensor"
   ]
  },
  {
   "cell_type": "code",
   "execution_count": 24,
   "metadata": {
    "id": "4fcM2rBkOcHS"
   },
   "outputs": [],
   "source": [
    "zero_to_ten = torch.arange(start=0,end=10,step=1)"
   ]
  },
  {
   "cell_type": "code",
   "execution_count": 25,
   "metadata": {
    "colab": {
     "base_uri": "https://localhost:8080/"
    },
    "id": "ZrN16uSZOwQj",
    "outputId": "510fba09-e6cd-420d-8828-b568b6e57167"
   },
   "outputs": [
    {
     "data": {
      "text/plain": [
       "tensor([0, 1, 2, 3, 4, 5, 6, 7, 8, 9])"
      ]
     },
     "execution_count": 25,
     "metadata": {},
     "output_type": "execute_result"
    }
   ],
   "source": [
    "zero_to_ten"
   ]
  },
  {
   "cell_type": "code",
   "execution_count": 26,
   "metadata": {
    "id": "LLzZCbvLOyF0"
   },
   "outputs": [],
   "source": [
    "ten_zero = torch.zeros_like(input=zero_to_ten)"
   ]
  },
  {
   "cell_type": "code",
   "execution_count": 27,
   "metadata": {
    "colab": {
     "base_uri": "https://localhost:8080/"
    },
    "id": "ziYO1DpYPHoz",
    "outputId": "a221c01b-f25f-4f66-acaf-97b61c784ffd"
   },
   "outputs": [
    {
     "data": {
      "text/plain": [
       "tensor([0, 0, 0, 0, 0, 0, 0, 0, 0, 0])"
      ]
     },
     "execution_count": 27,
     "metadata": {},
     "output_type": "execute_result"
    }
   ],
   "source": [
    "ten_zero"
   ]
  },
  {
   "cell_type": "code",
   "execution_count": 28,
   "metadata": {
    "id": "7kAFwGMHPKwB"
   },
   "outputs": [],
   "source": [
    "float_32_tensor = torch.tensor([3.0,9.0,8.0],\n",
    "                               dtype = None)"
   ]
  },
  {
   "cell_type": "code",
   "execution_count": 29,
   "metadata": {
    "colab": {
     "base_uri": "https://localhost:8080/"
    },
    "id": "nlN5igNuvFKX",
    "outputId": "3b195be2-2e69-4a4a-bf24-44d344064207"
   },
   "outputs": [
    {
     "data": {
      "text/plain": [
       "tensor([3., 9., 8.], dtype=torch.float16)"
      ]
     },
     "execution_count": 29,
     "metadata": {},
     "output_type": "execute_result"
    }
   ],
   "source": [
    "float_16_tensor = float_32_tensor.type(torch.float16)\n",
    "float_16_tensor"
   ]
  },
  {
   "cell_type": "code",
   "execution_count": 30,
   "metadata": {
    "colab": {
     "base_uri": "https://localhost:8080/"
    },
    "id": "tuul9-89CYKv",
    "outputId": "3c7123df-e5d6-447f-c8a1-26d13f0fce77"
   },
   "outputs": [
    {
     "data": {
      "text/plain": [
       "tensor(8)"
      ]
     },
     "execution_count": 30,
     "metadata": {},
     "output_type": "execute_result"
    }
   ],
   "source": [
    "tensor= torch.tensor(4)\n",
    "tensor+4\n"
   ]
  },
  {
   "cell_type": "code",
   "execution_count": null,
   "metadata": {
    "id": "MCdmaFEXgP0Q"
   },
   "outputs": [],
   "source": []
  },
  {
   "cell_type": "code",
   "execution_count": 31,
   "metadata": {
    "colab": {
     "base_uri": "https://localhost:8080/"
    },
    "id": "iKa9gzAiCl0Q",
    "outputId": "5a2ed56c-b224-4528-cbbc-2fac6eed0953"
   },
   "outputs": [
    {
     "data": {
      "text/plain": [
       "tensor([11, 11, 11])"
      ]
     },
     "execution_count": 31,
     "metadata": {},
     "output_type": "execute_result"
    }
   ],
   "source": [
    "tensor =torch.tensor([1,1,1])\n",
    "tensor+10"
   ]
  },
  {
   "cell_type": "code",
   "execution_count": 32,
   "metadata": {
    "colab": {
     "base_uri": "https://localhost:8080/"
    },
    "id": "kGJOKP7rCu2W",
    "outputId": "0ee14cd6-f199-491c-84a6-9780dd411bff"
   },
   "outputs": [
    {
     "data": {
      "text/plain": [
       "tensor([11, 11, 11])"
      ]
     },
     "execution_count": 32,
     "metadata": {},
     "output_type": "execute_result"
    }
   ],
   "source": [
    "tensor= tensor +10\n",
    "tensor"
   ]
  },
  {
   "cell_type": "code",
   "execution_count": 33,
   "metadata": {
    "colab": {
     "base_uri": "https://localhost:8080/"
    },
    "id": "iL0CrycHCzHB",
    "outputId": "ddbdbdbc-ec22-4daa-ea5f-4df54ec1cef4"
   },
   "outputs": [
    {
     "data": {
      "text/plain": [
       "tensor([12, 12, 12])"
      ]
     },
     "execution_count": 33,
     "metadata": {},
     "output_type": "execute_result"
    }
   ],
   "source": [
    "torch.add(tensor,1)"
   ]
  },
  {
   "cell_type": "code",
   "execution_count": 34,
   "metadata": {
    "id": "CP_sgkByDWJr"
   },
   "outputs": [],
   "source": [
    "one = torch.ones(size=(1,3))"
   ]
  },
  {
   "cell_type": "code",
   "execution_count": 35,
   "metadata": {
    "id": "4XGTBMc1D5Ri"
   },
   "outputs": [],
   "source": [
    "random = torch.rand(size=(1,3))"
   ]
  },
  {
   "cell_type": "code",
   "execution_count": 36,
   "metadata": {
    "colab": {
     "base_uri": "https://localhost:8080/"
    },
    "id": "SEw7YgbnEBNd",
    "outputId": "ebf72f19-d678-4de9-b868-449d00b6c6fb"
   },
   "outputs": [
    {
     "name": "stdout",
     "output_type": "stream",
     "text": [
      "tensor([[1., 1., 1.]]) * tensor([[0.0690, 0.7291, 0.7102]])\n",
      "mul =  tensor([[0.0690, 0.7291, 0.7102]])\n"
     ]
    }
   ],
   "source": [
    "print(one,\"*\",random)\n",
    "print(\"mul = \", one*random)"
   ]
  },
  {
   "cell_type": "code",
   "execution_count": 37,
   "metadata": {
    "id": "UlmX9Lg8EO_L"
   },
   "outputs": [],
   "source": [
    "tensor_1 = torch.tensor([[1,1],\n",
    "                         [2,2]])"
   ]
  },
  {
   "cell_type": "code",
   "execution_count": 38,
   "metadata": {
    "id": "dBFeWYuGEwsx"
   },
   "outputs": [],
   "source": [
    "tensor_2= torch.tensor([[1,1],\n",
    "                        [2,2]])"
   ]
  },
  {
   "cell_type": "code",
   "execution_count": 39,
   "metadata": {
    "colab": {
     "base_uri": "https://localhost:8080/"
    },
    "id": "z163ANjHE2VY",
    "outputId": "03be086c-afbf-4881-d58c-baf340059ca3"
   },
   "outputs": [
    {
     "name": "stdout",
     "output_type": "stream",
     "text": [
      "tensor([[1, 1],\n",
      "        [4, 4]])\n"
     ]
    }
   ],
   "source": [
    "print(tensor_1*tensor_2)"
   ]
  },
  {
   "cell_type": "code",
   "execution_count": 40,
   "metadata": {
    "colab": {
     "base_uri": "https://localhost:8080/"
    },
    "id": "j9STqgFTE8tK",
    "outputId": "db625bb4-4c16-453b-d090-3dbc9a429f74"
   },
   "outputs": [
    {
     "data": {
      "text/plain": [
       "tensor([[3, 3],\n",
       "        [6, 6]])"
      ]
     },
     "execution_count": 40,
     "metadata": {},
     "output_type": "execute_result"
    }
   ],
   "source": [
    "tensor_1 @tensor_2"
   ]
  },
  {
   "cell_type": "code",
   "execution_count": 41,
   "metadata": {
    "colab": {
     "base_uri": "https://localhost:8080/"
    },
    "id": "yikRm1b1GA-B",
    "outputId": "00023919-2dd6-4f88-d225-3bebf2f64c8f"
   },
   "outputs": [
    {
     "data": {
      "text/plain": [
       "tensor([[3, 3],\n",
       "        [6, 6]])"
      ]
     },
     "execution_count": 41,
     "metadata": {},
     "output_type": "execute_result"
    }
   ],
   "source": [
    "tensor_1.matmul(tensor_2)"
   ]
  },
  {
   "cell_type": "code",
   "execution_count": 42,
   "metadata": {
    "colab": {
     "base_uri": "https://localhost:8080/"
    },
    "id": "kQC0fOm9GEix",
    "outputId": "e9a2afee-c5b4-4cc3-ea9e-b845b78e0c08"
   },
   "outputs": [
    {
     "data": {
      "text/plain": [
       "tensor([[1, 2],\n",
       "        [1, 2]])"
      ]
     },
     "execution_count": 42,
     "metadata": {},
     "output_type": "execute_result"
    }
   ],
   "source": [
    "tensor_2.T"
   ]
  },
  {
   "cell_type": "code",
   "execution_count": 43,
   "metadata": {
    "colab": {
     "base_uri": "https://localhost:8080/"
    },
    "id": "PCtK8iGPHC28",
    "outputId": "a4e1c498-df28-440d-9974-9e5323f5b976"
   },
   "outputs": [
    {
     "data": {
      "text/plain": [
       "tensor([[3, 3],\n",
       "        [6, 6]])"
      ]
     },
     "execution_count": 43,
     "metadata": {},
     "output_type": "execute_result"
    }
   ],
   "source": [
    "tensor_1.mm(tensor_2)"
   ]
  },
  {
   "cell_type": "code",
   "execution_count": 44,
   "metadata": {
    "id": "SuauDjcYHR4-"
   },
   "outputs": [],
   "source": [
    "torch.manual_seed(42)\n",
    "model = torch.nn.Linear(in_features = 3,out_features = 6)\n",
    "input = torch.rand(size=(3,2))\n",
    "output= model (input.T)"
   ]
  },
  {
   "cell_type": "code",
   "execution_count": 45,
   "metadata": {
    "id": "v7AbCYh7mol_"
   },
   "outputs": [],
   "source": [
    "torch.manual_seed(42)\n",
    "model = torch.nn.Linear(in_features = 2,out_features = 5)\n",
    "input = torch.rand(size=(3,2))\n",
    "output=model(input)\n",
    "\n"
   ]
  },
  {
   "cell_type": "code",
   "execution_count": 46,
   "metadata": {
    "colab": {
     "base_uri": "https://localhost:8080/"
    },
    "id": "sAZEk2BZnHRm",
    "outputId": "21cca61a-2cc8-435a-8228-60d50f46724e"
   },
   "outputs": [
    {
     "data": {
      "text/plain": [
       "torch.Size([3, 5])"
      ]
     },
     "execution_count": 46,
     "metadata": {},
     "output_type": "execute_result"
    }
   ],
   "source": [
    "output.size()"
   ]
  },
  {
   "cell_type": "code",
   "execution_count": null,
   "metadata": {
    "id": "Cggh9gz0S5Og"
   },
   "outputs": [],
   "source": []
  },
  {
   "cell_type": "code",
   "execution_count": 47,
   "metadata": {
    "id": "qOu3m4IHTCm4"
   },
   "outputs": [],
   "source": [
    "input = torch.arange(1,100,5)"
   ]
  },
  {
   "cell_type": "code",
   "execution_count": 48,
   "metadata": {
    "colab": {
     "base_uri": "https://localhost:8080/"
    },
    "id": "1KeaSoNiUij1",
    "outputId": "b9c06b95-64d8-40a2-b6fa-8dba8677524d"
   },
   "outputs": [
    {
     "data": {
      "text/plain": [
       "tensor([ 1,  6, 11, 16, 21, 26, 31, 36, 41, 46, 51, 56, 61, 66, 71, 76, 81, 86,\n",
       "        91, 96])"
      ]
     },
     "execution_count": 48,
     "metadata": {},
     "output_type": "execute_result"
    }
   ],
   "source": [
    "input"
   ]
  },
  {
   "cell_type": "code",
   "execution_count": 49,
   "metadata": {
    "colab": {
     "base_uri": "https://localhost:8080/"
    },
    "id": "0FivfugAUkZy",
    "outputId": "69472fab-4093-46bf-c0fb-52e2c2baec15"
   },
   "outputs": [
    {
     "name": "stdout",
     "output_type": "stream",
     "text": [
      "tensor(1)\n",
      "tensor(96)\n",
      "tensor(970)\n"
     ]
    }
   ],
   "source": [
    "print(input.min())\n",
    "print(input.max())\n",
    "print(input.sum())\n"
   ]
  },
  {
   "cell_type": "code",
   "execution_count": 50,
   "metadata": {
    "colab": {
     "base_uri": "https://localhost:8080/"
    },
    "id": "KOTNufEZUmhL",
    "outputId": "c9a05c9a-069e-47fe-c6bf-4004a2f5a8db"
   },
   "outputs": [
    {
     "name": "stdout",
     "output_type": "stream",
     "text": [
      "tensor(48.5000)\n"
     ]
    }
   ],
   "source": [
    "\n",
    "print(input.type(torch.float32).mean())"
   ]
  },
  {
   "cell_type": "code",
   "execution_count": 51,
   "metadata": {
    "colab": {
     "base_uri": "https://localhost:8080/"
    },
    "id": "q_ZmOMXtVDir",
    "outputId": "7e783a68-a717-4a87-f3c4-fa693cd747fb"
   },
   "outputs": [
    {
     "data": {
      "text/plain": [
       "tensor(48.5000)"
      ]
     },
     "execution_count": 51,
     "metadata": {},
     "output_type": "execute_result"
    }
   ],
   "source": [
    "torch.mean(input.type(torch.float32))"
   ]
  },
  {
   "cell_type": "code",
   "execution_count": 52,
   "metadata": {
    "colab": {
     "base_uri": "https://localhost:8080/"
    },
    "id": "T5_lyVm0nnIG",
    "outputId": "8e6b73f4-35f9-4e17-90fa-4851dc571d0a"
   },
   "outputs": [
    {
     "data": {
      "text/plain": [
       "tensor(96)"
      ]
     },
     "execution_count": 52,
     "metadata": {},
     "output_type": "execute_result"
    }
   ],
   "source": [
    "torch.max(input)"
   ]
  },
  {
   "cell_type": "code",
   "execution_count": 53,
   "metadata": {
    "colab": {
     "base_uri": "https://localhost:8080/"
    },
    "id": "9X_Xy_CnVggX",
    "outputId": "cdfa2884-e4b6-460e-d539-764ea8ccfb74"
   },
   "outputs": [
    {
     "data": {
      "text/plain": [
       "tensor(19)"
      ]
     },
     "execution_count": 53,
     "metadata": {},
     "output_type": "execute_result"
    }
   ],
   "source": [
    "torch.argmax(input)"
   ]
  },
  {
   "cell_type": "code",
   "execution_count": 54,
   "metadata": {
    "id": "UH9hOVEgYEJC"
   },
   "outputs": [],
   "source": [
    "x = torch.tensor([[1,1],\n",
    "                  [2,2],\n",
    "                  [3,3]])"
   ]
  },
  {
   "cell_type": "code",
   "execution_count": 55,
   "metadata": {
    "colab": {
     "base_uri": "https://localhost:8080/"
    },
    "id": "8RqxpfVxWIQ4",
    "outputId": "3715ebb5-36eb-4d5a-8cea-25325b8c2250"
   },
   "outputs": [
    {
     "data": {
      "text/plain": [
       "2"
      ]
     },
     "execution_count": 55,
     "metadata": {},
     "output_type": "execute_result"
    }
   ],
   "source": [
    "x.ndim"
   ]
  },
  {
   "cell_type": "code",
   "execution_count": 56,
   "metadata": {
    "id": "NfsY5iwnYJRT"
   },
   "outputs": [],
   "source": [
    "x=torch.reshape(x,(1,6))"
   ]
  },
  {
   "cell_type": "code",
   "execution_count": 57,
   "metadata": {
    "colab": {
     "base_uri": "https://localhost:8080/"
    },
    "id": "10nZcTZrYQAf",
    "outputId": "c91850d6-74b1-42f8-f34b-484097075611"
   },
   "outputs": [
    {
     "data": {
      "text/plain": [
       "tensor([[1, 1, 2, 2, 3, 3]])"
      ]
     },
     "execution_count": 57,
     "metadata": {},
     "output_type": "execute_result"
    }
   ],
   "source": [
    "x"
   ]
  },
  {
   "cell_type": "code",
   "execution_count": 58,
   "metadata": {
    "id": "t8gXMH99ogRQ"
   },
   "outputs": [],
   "source": [
    "x=x.view((2,3))"
   ]
  },
  {
   "cell_type": "code",
   "execution_count": 59,
   "metadata": {
    "colab": {
     "base_uri": "https://localhost:8080/"
    },
    "id": "CCGG6uSsor-H",
    "outputId": "430e2318-21a7-46ce-bd72-6b3cb3e3162a"
   },
   "outputs": [
    {
     "data": {
      "text/plain": [
       "tensor([[1, 1, 2],\n",
       "        [2, 3, 3]])"
      ]
     },
     "execution_count": 59,
     "metadata": {},
     "output_type": "execute_result"
    }
   ],
   "source": [
    "x"
   ]
  },
  {
   "cell_type": "code",
   "execution_count": 60,
   "metadata": {
    "id": "W6-va2i8otJP"
   },
   "outputs": [],
   "source": [
    "z=x.view((3,2))"
   ]
  },
  {
   "cell_type": "code",
   "execution_count": 61,
   "metadata": {
    "colab": {
     "base_uri": "https://localhost:8080/"
    },
    "id": "jeYeo1djpLD3",
    "outputId": "b3340fe7-afaa-4fe5-9372-f3ceb5a1bd3b"
   },
   "outputs": [
    {
     "data": {
      "text/plain": [
       "tensor([[1, 1],\n",
       "        [2, 2],\n",
       "        [3, 3]])"
      ]
     },
     "execution_count": 61,
     "metadata": {},
     "output_type": "execute_result"
    }
   ],
   "source": [
    "z"
   ]
  },
  {
   "cell_type": "code",
   "execution_count": 62,
   "metadata": {
    "colab": {
     "base_uri": "https://localhost:8080/"
    },
    "id": "oo9Qf8KlpLsg",
    "outputId": "408ef8f8-f215-48c1-ab84-a6ea0cedb3ca"
   },
   "outputs": [
    {
     "data": {
      "text/plain": [
       "tensor([[1, 1, 2],\n",
       "        [2, 3, 3]])"
      ]
     },
     "execution_count": 62,
     "metadata": {},
     "output_type": "execute_result"
    }
   ],
   "source": [
    "x"
   ]
  },
  {
   "cell_type": "code",
   "execution_count": 63,
   "metadata": {
    "colab": {
     "base_uri": "https://localhost:8080/"
    },
    "id": "ZIjGaCUJpRH_",
    "outputId": "65472604-f93d-49a1-9aa4-6cc8c0779c72"
   },
   "outputs": [
    {
     "data": {
      "text/plain": [
       "(tensor([[5, 1],\n",
       "         [5, 2],\n",
       "         [5, 3]]),\n",
       " tensor([[5, 1, 5],\n",
       "         [2, 5, 3]]))"
      ]
     },
     "execution_count": 63,
     "metadata": {},
     "output_type": "execute_result"
    }
   ],
   "source": [
    "z[:,0]=5\n",
    "z,x"
   ]
  },
  {
   "cell_type": "code",
   "execution_count": 64,
   "metadata": {
    "id": "rNVlvuUVpV54"
   },
   "outputs": [],
   "source": [
    "x=x.reshape((1,6))"
   ]
  },
  {
   "cell_type": "code",
   "execution_count": 65,
   "metadata": {
    "colab": {
     "base_uri": "https://localhost:8080/"
    },
    "id": "Lh42ZVpZqGDO",
    "outputId": "18344c2b-c820-4e25-be21-e7682e80fccb"
   },
   "outputs": [
    {
     "data": {
      "text/plain": [
       "tensor([[5, 1, 5, 2, 5, 3]])"
      ]
     },
     "execution_count": 65,
     "metadata": {},
     "output_type": "execute_result"
    }
   ],
   "source": [
    "x"
   ]
  },
  {
   "cell_type": "markdown",
   "metadata": {
    "id": "rneVKAfirvyI"
   },
   "source": []
  },
  {
   "cell_type": "code",
   "execution_count": 66,
   "metadata": {
    "id": "GkF4m26tqGtO"
   },
   "outputs": [],
   "source": [
    "x_stack = torch.stack([x,x,x,x])"
   ]
  },
  {
   "cell_type": "code",
   "execution_count": 67,
   "metadata": {
    "colab": {
     "base_uri": "https://localhost:8080/"
    },
    "id": "AC9xKKjGqQhF",
    "outputId": "f3cad3c2-b7da-4dbc-ff08-7fbab7452ae3"
   },
   "outputs": [
    {
     "data": {
      "text/plain": [
       "3"
      ]
     },
     "execution_count": 67,
     "metadata": {},
     "output_type": "execute_result"
    }
   ],
   "source": [
    "x_stack.ndim"
   ]
  },
  {
   "cell_type": "code",
   "execution_count": 68,
   "metadata": {
    "colab": {
     "base_uri": "https://localhost:8080/"
    },
    "id": "D7mECqbZqRd2",
    "outputId": "faad1ef3-0ba5-4dfb-d3f2-1e41baea810c"
   },
   "outputs": [
    {
     "data": {
      "text/plain": [
       "tensor([[[5, 1, 5, 2, 5, 3]],\n",
       "\n",
       "        [[5, 1, 5, 2, 5, 3]],\n",
       "\n",
       "        [[5, 1, 5, 2, 5, 3]],\n",
       "\n",
       "        [[5, 1, 5, 2, 5, 3]]])"
      ]
     },
     "execution_count": 68,
     "metadata": {},
     "output_type": "execute_result"
    }
   ],
   "source": [
    "x_stack1= torch.stack([x,x,x,x],dim=0)\n",
    "x_stack1"
   ]
  },
  {
   "cell_type": "code",
   "execution_count": null,
   "metadata": {
    "id": "yeKR_8Lcqb9v"
   },
   "outputs": [],
   "source": []
  },
  {
   "cell_type": "code",
   "execution_count": 69,
   "metadata": {
    "colab": {
     "base_uri": "https://localhost:8080/"
    },
    "id": "I1q7xRzIqdmH",
    "outputId": "558f4990-60b2-4c2e-c522-f29ae35a9497"
   },
   "outputs": [
    {
     "data": {
      "text/plain": [
       "tensor([[[5, 1, 5, 2, 5, 3],\n",
       "         [5, 1, 5, 2, 5, 3],\n",
       "         [5, 1, 5, 2, 5, 3],\n",
       "         [5, 1, 5, 2, 5, 3]]])"
      ]
     },
     "execution_count": 69,
     "metadata": {},
     "output_type": "execute_result"
    }
   ],
   "source": [
    "x_stack11= torch.stack([x,x,x,x],dim=1)\n",
    "x_stack11"
   ]
  },
  {
   "cell_type": "code",
   "execution_count": 70,
   "metadata": {
    "id": "pM3Y_I_vr892"
   },
   "outputs": [],
   "source": [
    "z = torch.tensor([1,2,3,4,5])"
   ]
  },
  {
   "cell_type": "code",
   "execution_count": 71,
   "metadata": {
    "colab": {
     "base_uri": "https://localhost:8080/"
    },
    "id": "CLPUHOiftxN9",
    "outputId": "63ea9970-beaf-4748-a795-c29fc6123b84"
   },
   "outputs": [
    {
     "data": {
      "text/plain": [
       "tensor([1, 2, 3, 4, 5])"
      ]
     },
     "execution_count": 71,
     "metadata": {},
     "output_type": "execute_result"
    }
   ],
   "source": [
    "z"
   ]
  },
  {
   "cell_type": "code",
   "execution_count": 72,
   "metadata": {
    "id": "0NoiBHH2tx7N"
   },
   "outputs": [],
   "source": [
    "z_reshaped = z.reshape((1,5))"
   ]
  },
  {
   "cell_type": "code",
   "execution_count": 73,
   "metadata": {
    "colab": {
     "base_uri": "https://localhost:8080/"
    },
    "id": "M8b5us8AuGP1",
    "outputId": "cb919f21-5f1a-4e46-922b-3d3e247d76e0"
   },
   "outputs": [
    {
     "data": {
      "text/plain": [
       "tensor([[1, 2, 3, 4, 5]])"
      ]
     },
     "execution_count": 73,
     "metadata": {},
     "output_type": "execute_result"
    }
   ],
   "source": [
    "z_reshaped"
   ]
  },
  {
   "cell_type": "code",
   "execution_count": 74,
   "metadata": {
    "id": "Z6_MPBXQuX6V"
   },
   "outputs": [],
   "source": [
    "z_reshaped=z_reshaped.squeeze()"
   ]
  },
  {
   "cell_type": "code",
   "execution_count": 75,
   "metadata": {
    "colab": {
     "base_uri": "https://localhost:8080/"
    },
    "id": "9UcDNEHzub_s",
    "outputId": "f35ac589-a3f5-412e-9920-2d84f843bddb"
   },
   "outputs": [
    {
     "data": {
      "text/plain": [
       "torch.Size([5])"
      ]
     },
     "execution_count": 75,
     "metadata": {},
     "output_type": "execute_result"
    }
   ],
   "source": [
    "z_reshaped.size()"
   ]
  },
  {
   "cell_type": "code",
   "execution_count": 76,
   "metadata": {
    "colab": {
     "base_uri": "https://localhost:8080/"
    },
    "id": "AdXpbJ57u-TO",
    "outputId": "d4bc9176-346e-4838-ba89-4ed22c73d512"
   },
   "outputs": [
    {
     "data": {
      "text/plain": [
       "torch.Size([5, 1])"
      ]
     },
     "execution_count": 76,
     "metadata": {},
     "output_type": "execute_result"
    }
   ],
   "source": [
    "z_reshaped.unsqueeze(dim=1).size()"
   ]
  },
  {
   "cell_type": "code",
   "execution_count": 77,
   "metadata": {
    "colab": {
     "base_uri": "https://localhost:8080/"
    },
    "id": "xRb6DKLPvja0",
    "outputId": "595802c8-c1d2-4223-85e5-c4e47b77ef3c"
   },
   "outputs": [
    {
     "data": {
      "text/plain": [
       "torch.Size([1, 5])"
      ]
     },
     "execution_count": 77,
     "metadata": {},
     "output_type": "execute_result"
    }
   ],
   "source": [
    "z_reshaped.unsqueeze(dim=0).size()"
   ]
  },
  {
   "cell_type": "code",
   "execution_count": 78,
   "metadata": {
    "id": "RPzM7CSBwbar"
   },
   "outputs": [],
   "source": [
    "x_original = torch.rand(size=(2,4,2))"
   ]
  },
  {
   "cell_type": "code",
   "execution_count": 79,
   "metadata": {
    "colab": {
     "base_uri": "https://localhost:8080/"
    },
    "id": "0T_qoCjlx2_C",
    "outputId": "fdc33315-4b7f-43d9-8154-2c6f7b8fc6a9"
   },
   "outputs": [
    {
     "data": {
      "text/plain": [
       "tensor([[[0.4414, 0.2969],\n",
       "         [0.8317, 0.1053],\n",
       "         [0.2695, 0.3588],\n",
       "         [0.1994, 0.5472]],\n",
       "\n",
       "        [[0.0062, 0.9516],\n",
       "         [0.0753, 0.8860],\n",
       "         [0.5832, 0.3376],\n",
       "         [0.8090, 0.5779]]])"
      ]
     },
     "execution_count": 79,
     "metadata": {},
     "output_type": "execute_result"
    }
   ],
   "source": [
    "x_original"
   ]
  },
  {
   "cell_type": "code",
   "execution_count": 80,
   "metadata": {
    "colab": {
     "base_uri": "https://localhost:8080/"
    },
    "id": "986q_rljx4Wx",
    "outputId": "b2d25cdc-95f9-4f3a-a62d-86520a255c4a"
   },
   "outputs": [
    {
     "data": {
      "text/plain": [
       "tensor([[[0.4414, 0.8317, 0.2695, 0.1994],\n",
       "         [0.0062, 0.0753, 0.5832, 0.8090]],\n",
       "\n",
       "        [[0.2969, 0.1053, 0.3588, 0.5472],\n",
       "         [0.9516, 0.8860, 0.3376, 0.5779]]])"
      ]
     },
     "execution_count": 80,
     "metadata": {},
     "output_type": "execute_result"
    }
   ],
   "source": [
    "torch.permute(x_original,(2,0,1))\n",
    "# (2,2,4)"
   ]
  },
  {
   "cell_type": "code",
   "execution_count": 81,
   "metadata": {
    "colab": {
     "base_uri": "https://localhost:8080/"
    },
    "id": "g_jbl-boyXQy",
    "outputId": "bd2da47e-7524-4538-de7a-cded02db5339"
   },
   "outputs": [
    {
     "data": {
      "text/plain": [
       "(tensor([[[1, 2, 3],\n",
       "          [4, 5, 6],\n",
       "          [7, 8, 9]]]),\n",
       " torch.Size([1, 3, 3]))"
      ]
     },
     "execution_count": 81,
     "metadata": {},
     "output_type": "execute_result"
    }
   ],
   "source": [
    "x = torch.arange(1,10).reshape(1,3,3)\n",
    "x,x.size()"
   ]
  },
  {
   "cell_type": "code",
   "execution_count": 82,
   "metadata": {
    "colab": {
     "base_uri": "https://localhost:8080/"
    },
    "id": "6_RosRnIzyhL",
    "outputId": "9de9e7b3-a879-422b-a162-49d7fb688df8"
   },
   "outputs": [
    {
     "data": {
      "text/plain": [
       "tensor([[1, 2, 3],\n",
       "        [4, 5, 6],\n",
       "        [7, 8, 9]])"
      ]
     },
     "execution_count": 82,
     "metadata": {},
     "output_type": "execute_result"
    }
   ],
   "source": [
    "x[0]"
   ]
  },
  {
   "cell_type": "code",
   "execution_count": 83,
   "metadata": {
    "colab": {
     "base_uri": "https://localhost:8080/"
    },
    "id": "VYTpDqxlz_Ux",
    "outputId": "bfdda374-8912-4493-e203-48737434dc64"
   },
   "outputs": [
    {
     "data": {
      "text/plain": [
       "tensor([1, 2, 3])"
      ]
     },
     "execution_count": 83,
     "metadata": {},
     "output_type": "execute_result"
    }
   ],
   "source": [
    "x[0][0]"
   ]
  },
  {
   "cell_type": "code",
   "execution_count": 84,
   "metadata": {
    "colab": {
     "base_uri": "https://localhost:8080/"
    },
    "id": "vCaSRDin0ER5",
    "outputId": "1981370b-bee3-4578-8809-c3b57cd3e015"
   },
   "outputs": [
    {
     "data": {
      "text/plain": [
       "tensor(1)"
      ]
     },
     "execution_count": 84,
     "metadata": {},
     "output_type": "execute_result"
    }
   ],
   "source": [
    "x[0][0][0]"
   ]
  },
  {
   "cell_type": "code",
   "execution_count": 85,
   "metadata": {
    "colab": {
     "base_uri": "https://localhost:8080/"
    },
    "id": "rmM9flVt0Hg5",
    "outputId": "67258905-f64e-45c6-9403-c1fb8d3eb153"
   },
   "outputs": [
    {
     "data": {
      "text/plain": [
       "tensor([[1, 2, 3]])"
      ]
     },
     "execution_count": 85,
     "metadata": {},
     "output_type": "execute_result"
    }
   ],
   "source": [
    "x[:,0]"
   ]
  },
  {
   "cell_type": "code",
   "execution_count": 86,
   "metadata": {
    "colab": {
     "base_uri": "https://localhost:8080/"
    },
    "id": "cVs8T41S0LJa",
    "outputId": "857b2536-d2dd-401a-b454-494332c92b72"
   },
   "outputs": [
    {
     "data": {
      "text/plain": [
       "tensor([1])"
      ]
     },
     "execution_count": 86,
     "metadata": {},
     "output_type": "execute_result"
    }
   ],
   "source": [
    "x[:,0,0]"
   ]
  },
  {
   "cell_type": "code",
   "execution_count": 87,
   "metadata": {
    "colab": {
     "base_uri": "https://localhost:8080/"
    },
    "id": "9ibu867F0RJp",
    "outputId": "48d43a4f-28b0-4659-e367-8621b6257d79"
   },
   "outputs": [
    {
     "data": {
      "text/plain": [
       "tensor([[3, 6, 9]])"
      ]
     },
     "execution_count": 87,
     "metadata": {},
     "output_type": "execute_result"
    }
   ],
   "source": [
    "x[:,:,2]"
   ]
  }
 ],
 "metadata": {
  "colab": {
   "provenance": []
  },
  "kernelspec": {
   "display_name": "Python 3 (ipykernel)",
   "language": "python",
   "name": "python3"
  },
  "language_info": {
   "codemirror_mode": {
    "name": "ipython",
    "version": 3
   },
   "file_extension": ".py",
   "mimetype": "text/x-python",
   "name": "python",
   "nbconvert_exporter": "python",
   "pygments_lexer": "ipython3",
   "version": "3.12.1"
  }
 },
 "nbformat": 4,
 "nbformat_minor": 4
}
